{
  "nbformat": 4,
  "nbformat_minor": 0,
  "metadata": {
    "colab": {
      "name": "PreProcess.ipynb",
      "provenance": [],
      "collapsed_sections": []
    },
    "kernelspec": {
      "name": "python3",
      "display_name": "Python 3"
    },
    "accelerator": "GPU"
  },
  "cells": [
    {
      "cell_type": "code",
      "metadata": {
        "id": "z6YWi76e2-P3"
      },
      "source": [
        "import numpy as np\n",
        "import pandas as pd\n",
        "import copy\n",
        "import matplotlib.pyplot as plt\n",
        "import datetime\n",
        "import time\n",
        "%matplotlib inline"
      ],
      "execution_count": 1,
      "outputs": []
    },
    {
      "cell_type": "code",
      "metadata": {
        "id": "6CaAaenx-T3O"
      },
      "source": [
        "# read training and test sets\n",
        "raw_train=pd.read_csv('train.csv')\n",
        "raw_test=pd.read_csv('test.csv')"
      ],
      "execution_count": 2,
      "outputs": []
    },
    {
      "cell_type": "code",
      "metadata": {
        "id": "aOhOAm5b-XYU"
      },
      "source": [
        "# Encodeing categorical variable in the training set\n",
        "raw_train['rep_education'] = raw_train['rep_education'].replace({\"other\":0})\n",
        "raw_train['rep_education'] = raw_train['rep_education'].replace({\"high_school\":1})\n",
        "raw_train['rep_education'] = raw_train['rep_education'].replace({\"college\":2})\n",
        "raw_train['rep_education'] = raw_train['rep_education'].replace({\"graduate\":3})"
      ],
      "execution_count": 3,
      "outputs": []
    },
    {
      "cell_type": "code",
      "metadata": {
        "id": "eyVSBbh9-aCv"
      },
      "source": [
        "# Encodeing categorical variable in the test set\n",
        "raw_test['rep_education'] = raw_test['rep_education'].replace({\"other\":0})\n",
        "raw_test['rep_education'] = raw_test['rep_education'].replace({\"high_school\":1})\n",
        "raw_test['rep_education'] = raw_test['rep_education'].replace({\"college\":2})\n",
        "raw_test['rep_education'] = raw_test['rep_education'].replace({\"graduate\":3})"
      ],
      "execution_count": 4,
      "outputs": []
    },
    {
      "cell_type": "code",
      "metadata": {
        "colab": {
          "base_uri": "https://localhost:8080/"
        },
        "id": "PflAyZYE-f-O",
        "outputId": "07515435-d5e6-4d4a-c2ec-c90494a5801f"
      },
      "source": [
        "### Get percentage of NULL values for each feature\n",
        "Null_list = raw_train.isnull().sum().sort_values(ascending=False)/float(raw_train.shape[0])*100\n",
        "print('the pencentage of NUll value in each features are:', Null_list[:22])"
      ],
      "execution_count": 5,
      "outputs": [
        {
          "output_type": "stream",
          "text": [
            "the pencentage of NUll value in each features are: pct_card_over_50_uti               9.790\n",
            "rep_income                         7.795\n",
            "rep_education                      0.005\n",
            "Def_ind                            0.000\n",
            "tot_amount_currently_past_due      0.000\n",
            "avg_bal_cards                      0.000\n",
            "credit_age                         0.000\n",
            "credit_age_good_account            0.000\n",
            "credit_card_age                    0.000\n",
            "num_acc_30d_past_due_12_months     0.000\n",
            "num_acc_30d_past_due_6_months      0.000\n",
            "num_mortgage_currently_past_due    0.000\n",
            "num_card_inq_24_month              0.000\n",
            "num_inq_12_month                   0.000\n",
            "num_card_12_month                  0.000\n",
            "num_auto_ 36_month                 0.000\n",
            "uti_open_card                      0.000\n",
            "pct_over_50_uti                    0.000\n",
            "uti_max_credit_line                0.000\n",
            "ind_XYZ                            0.000\n",
            "tot_balance                        0.000\n",
            "dtype: float64\n"
          ],
          "name": "stdout"
        }
      ]
    },
    {
      "cell_type": "code",
      "metadata": {
        "colab": {
          "base_uri": "https://localhost:8080/"
        },
        "id": "bzPOa0_K-irN",
        "outputId": "e83011d2-a13c-4aba-e36a-543580a10fb1"
      },
      "source": [
        "# count number of rep_education per category\n",
        "raw_train.rep_education.value_counts()"
      ],
      "execution_count": 6,
      "outputs": [
        {
          "output_type": "execute_result",
          "data": {
            "text/plain": [
              "2.0    12137\n",
              "1.0     5314\n",
              "3.0     2406\n",
              "0.0      142\n",
              "Name: rep_education, dtype: int64"
            ]
          },
          "metadata": {
            "tags": []
          },
          "execution_count": 6
        }
      ]
    },
    {
      "cell_type": "code",
      "metadata": {
        "id": "8yS9eP-1_OL3"
      },
      "source": [
        "# Fill missing values by mean values\n",
        "raw_train.pct_card_over_50_uti.fillna(raw_train.pct_card_over_50_uti.mean(), inplace=True)\n",
        "raw_test.pct_card_over_50_uti.fillna(raw_test.pct_card_over_50_uti.mean(),inplace=True)\n",
        "\n",
        "# Fill missing values by mean values\n",
        "raw_train.rep_income.fillna(raw_train.rep_income.mean(),inplace=True)\n",
        "raw_test.rep_income.fillna(raw_test.rep_income.mean(),inplace=True)\n",
        "\n",
        "# Fill missing values by mode\n",
        "raw_train.rep_education.fillna(raw_train.rep_education.mode(),inplace=True)\n",
        "raw_test.rep_education.fillna(raw_test.rep_education.mode(),inplace=True)"
      ],
      "execution_count": 7,
      "outputs": []
    },
    {
      "cell_type": "code",
      "metadata": {
        "colab": {
          "base_uri": "https://localhost:8080/"
        },
        "id": "PfcNlwgV_cRA",
        "outputId": "86e62de9-e96a-4f6b-a300-3f4404e10813"
      },
      "source": [
        "# make sure no NaN values in the train and test sets.\n",
        "is_NaN = raw_train.isnull()\n",
        "row_has_NaN = is_NaN.any(axis=1)\n",
        "rows_with_NaN = raw_train[row_has_NaN]\n",
        "print(rows_with_NaN)"
      ],
      "execution_count": 11,
      "outputs": [
        {
          "output_type": "stream",
          "text": [
            "Empty DataFrame\n",
            "Columns: [tot_balance, avg_bal_cards, credit_age, credit_age_good_account, credit_card_age, num_acc_30d_past_due_12_months, num_acc_30d_past_due_6_months, num_mortgage_currently_past_due, tot_amount_currently_past_due, num_inq_12_month, num_card_inq_24_month, num_card_12_month, num_auto_ 36_month, uti_open_card, pct_over_50_uti, uti_max_credit_line, pct_card_over_50_uti, ind_XYZ, rep_income, rep_education, Def_ind]\n",
            "Index: []\n"
          ],
          "name": "stdout"
        }
      ]
    },
    {
      "cell_type": "code",
      "metadata": {
        "id": "69nXvY7KAUSB"
      },
      "source": [
        "# write cleanned data to local disk\n",
        "raw_train.to_csv('newTrain.csv', index=False)\n",
        "raw_test.to_csv('newTest.csv', index = False)"
      ],
      "execution_count": 8,
      "outputs": []
    }
  ]
}